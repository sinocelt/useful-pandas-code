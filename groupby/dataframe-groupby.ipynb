{
 "cells": [
  {
   "cell_type": "code",
   "execution_count": 1,
   "id": "a9cf07ec-d79e-4d47-a150-c088e3310404",
   "metadata": {},
   "outputs": [],
   "source": [
    "import pandas as pd\n",
    "import numpy as np\n",
    "# to suppress some annoying messages\n",
    "import warnings"
   ]
  },
  {
   "cell_type": "code",
   "execution_count": 2,
   "id": "c3592ecb-4c6b-4c4b-8bd2-f02da488bb90",
   "metadata": {},
   "outputs": [],
   "source": [
    "# Suppress FutureWarnings\n",
    "# I don't want annoying messages about agg\n",
    "warnings.simplefilter(action='ignore', category=FutureWarning)"
   ]
  },
  {
   "cell_type": "markdown",
   "id": "1eaeea6d",
   "metadata": {},
   "source": [
    "# Read in salary data into a dataframe"
   ]
  },
  {
   "cell_type": "code",
   "execution_count": 3,
   "id": "27523b52-e0c8-4dca-9ba6-a1669cd07550",
   "metadata": {},
   "outputs": [],
   "source": [
    "df = pd.read_csv('salary.csv', delimiter='\\t')"
   ]
  },
  {
   "cell_type": "code",
   "execution_count": 4,
   "id": "87c6cace",
   "metadata": {},
   "outputs": [
    {
     "name": "stdout",
     "output_type": "stream",
     "text": [
      "      name                        career  yearly_salary gender  age age_group\n",
      "0     Brad                        doctor         150000      m   35     30–39\n",
      "1     Sana                 idol / singer        1450000      f   28     20–29\n",
      "2     Luke                  data analyst          80000      m   39     30–39\n",
      "3     Tony                       teacher          45000      m   42     40–49\n",
      "4     Mike                 account clerk          44630      m   25     20–29\n",
      "5     Leia             chemical engineer         112000      f   45     40–49\n",
      "6     Nick                           CEO         250000      m   57     50–59\n",
      "7   Cheryl   software engineering intern          68000      f   23     20–29\n",
      "8    Wayne                        author          75000      m   75     70–79\n",
      "9    Julie                        author          80000      f   40     40–49\n",
      "10    John         pizza delivery driver          30000      m   37     30–39\n",
      "11    Jean                      waitress          30000      f   27     20–29\n",
      "12   Sonja                     professor         150000      f   45     40–49\n",
      "13   Sarah                   Uber driver          40000      f   38     30–39\n",
      "14    Mary                        lawyer         300000      f   33     30–39\n",
      "15  Olivia                    day trader          80000      f   65     60–69\n",
      "16   Pilar  entrepreneur / self-employed          55000      m   47     40–49\n"
     ]
    }
   ],
   "source": [
    "print(df)"
   ]
  },
  {
   "cell_type": "markdown",
   "id": "6eb0db90",
   "metadata": {},
   "source": [
    "# Group by gender"
   ]
  },
  {
   "cell_type": "code",
   "execution_count": 5,
   "id": "3c488b98",
   "metadata": {},
   "outputs": [],
   "source": [
    "# grouped by gender\n",
    "gender_group = df.groupby('gender')"
   ]
  },
  {
   "cell_type": "markdown",
   "id": "b9d96531",
   "metadata": {},
   "source": [
    "## Group by gender for yearly salary\n",
    "### Calculate mean and median for yearly salary"
   ]
  },
  {
   "cell_type": "code",
   "execution_count": 6,
   "id": "b4a5fff7-c167-4308-98c5-14603e2b563f",
   "metadata": {},
   "outputs": [],
   "source": [
    "# group by gender and get mean and median of salary\n",
    "aggregated_df = gender_group ['yearly_salary'].agg([np.mean, np.median])\n"
   ]
  },
  {
   "cell_type": "code",
   "execution_count": 7,
   "id": "6af7f38f-3051-4433-8712-b2fbcfe09dfb",
   "metadata": {},
   "outputs": [
    {
     "name": "stdout",
     "output_type": "stream",
     "text": [
      "                 mean   median\n",
      "gender                        \n",
      "f       256666.666667  80000.0\n",
      "m        91203.750000  65000.0\n"
     ]
    }
   ],
   "source": [
    "print(aggregated_df)"
   ]
  },
  {
   "cell_type": "code",
   "execution_count": null,
   "id": "068ef028",
   "metadata": {},
   "outputs": [],
   "source": []
  },
  {
   "cell_type": "markdown",
   "id": "cd3d9f8a",
   "metadata": {},
   "source": [
    "## Get first values from each gender group"
   ]
  },
  {
   "cell_type": "code",
   "execution_count": 8,
   "id": "ff1b200f-11cc-4452-9069-41cdd04d3505",
   "metadata": {},
   "outputs": [],
   "source": [
    "# get first values for each column from grouped by gender\n",
    "first = gender_group.first()"
   ]
  },
  {
   "cell_type": "code",
   "execution_count": 9,
   "id": "12fb22da-e159-4db6-9baa-6d55f371e2a2",
   "metadata": {},
   "outputs": [
    {
     "name": "stdout",
     "output_type": "stream",
     "text": [
      "        name         career  yearly_salary  age age_group\n",
      "gender                                                   \n",
      "f       Sana  idol / singer        1450000   28     20–29\n",
      "m       Brad         doctor         150000   35     30–39\n"
     ]
    }
   ],
   "source": [
    "print(first)"
   ]
  },
  {
   "cell_type": "code",
   "execution_count": null,
   "id": "f6d9229b",
   "metadata": {},
   "outputs": [],
   "source": []
  }
 ],
 "metadata": {
  "kernelspec": {
   "display_name": ".venv",
   "language": "python",
   "name": "python3"
  },
  "language_info": {
   "codemirror_mode": {
    "name": "ipython",
    "version": 3
   },
   "file_extension": ".py",
   "mimetype": "text/x-python",
   "name": "python",
   "nbconvert_exporter": "python",
   "pygments_lexer": "ipython3",
   "version": "3.10.12"
  }
 },
 "nbformat": 4,
 "nbformat_minor": 5
}
