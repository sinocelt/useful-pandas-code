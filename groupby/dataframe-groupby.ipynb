{
 "cells": [
  {
   "cell_type": "code",
   "execution_count": 1,
   "id": "a9cf07ec-d79e-4d47-a150-c088e3310404",
   "metadata": {},
   "outputs": [],
   "source": [
    "import pandas as pd\n",
    "import numpy as np"
   ]
  },
  {
   "cell_type": "code",
   "execution_count": 2,
   "id": "f35dcade-68e4-4098-80e7-d7a6ac3e8e2b",
   "metadata": {},
   "outputs": [],
   "source": [
    "# to suppress some annoying messages\n",
    "import warnings"
   ]
  },
  {
   "cell_type": "code",
   "execution_count": 3,
   "id": "c3592ecb-4c6b-4c4b-8bd2-f02da488bb90",
   "metadata": {},
   "outputs": [],
   "source": [
    "# Suppress FutureWarnings\n",
    "# I don't want annoying messages about agg\n",
    "warnings.simplefilter(action='ignore', category=FutureWarning)"
   ]
  },
  {
   "cell_type": "code",
   "execution_count": 4,
   "id": "27523b52-e0c8-4dca-9ba6-a1669cd07550",
   "metadata": {},
   "outputs": [],
   "source": [
    "df = pd.read_csv('salary.csv', delimiter='\\t')"
   ]
  },
  {
   "cell_type": "code",
   "execution_count": 5,
   "id": "b4a5fff7-c167-4308-98c5-14603e2b563f",
   "metadata": {},
   "outputs": [],
   "source": [
    "# group by gender and get mean and median of salary\n",
    "aggregated_df = df.groupby('gender')['yearly_salary'].agg([np.mean, np.median])\n"
   ]
  },
  {
   "cell_type": "code",
   "execution_count": 6,
   "id": "b31bda26-1342-4b27-a0ea-b4b46df0f824",
   "metadata": {},
   "outputs": [],
   "source": [
    "# grouped by gender\n",
    "gender_group = df.groupby('gender')"
   ]
  },
  {
   "cell_type": "code",
   "execution_count": 7,
   "id": "6af7f38f-3051-4433-8712-b2fbcfe09dfb",
   "metadata": {},
   "outputs": [
    {
     "name": "stdout",
     "output_type": "stream",
     "text": [
      "                 mean   median\n",
      "gender                        \n",
      "f       256666.666667  80000.0\n",
      "m        91203.750000  65000.0\n"
     ]
    }
   ],
   "source": [
    "print(aggregated_df)"
   ]
  },
  {
   "cell_type": "code",
   "execution_count": 8,
   "id": "ff1b200f-11cc-4452-9069-41cdd04d3505",
   "metadata": {},
   "outputs": [],
   "source": [
    "# get first values for each column from grouped by gender\n",
    "gender_group = df.groupby('gender')\n",
    "first = gender_group.first()"
   ]
  },
  {
   "cell_type": "code",
   "execution_count": 9,
   "id": "12fb22da-e159-4db6-9baa-6d55f371e2a2",
   "metadata": {},
   "outputs": [
    {
     "name": "stdout",
     "output_type": "stream",
     "text": [
      "        name         career  yearly_salary  age age_group\n",
      "gender                                                   \n",
      "f       Sana  idol / singer        1450000   28     20–29\n",
      "m       Brad         doctor         150000   35     30–39\n"
     ]
    }
   ],
   "source": [
    "print(first)"
   ]
  }
 ],
 "metadata": {
  "kernelspec": {
   "display_name": "Python 3 (ipykernel)",
   "language": "python",
   "name": "python3"
  },
  "language_info": {
   "codemirror_mode": {
    "name": "ipython",
    "version": 3
   },
   "file_extension": ".py",
   "mimetype": "text/x-python",
   "name": "python",
   "nbconvert_exporter": "python",
   "pygments_lexer": "ipython3",
   "version": "3.10.12"
  }
 },
 "nbformat": 4,
 "nbformat_minor": 5
}
