{
 "cells": [
  {
   "cell_type": "code",
   "execution_count": 1,
   "id": "870a4719-c5a8-45c0-aa08-f7e505f9ce39",
   "metadata": {},
   "outputs": [],
   "source": [
    "import pandas as pd"
   ]
  },
  {
   "cell_type": "markdown",
   "id": "b7571152-8165-47ea-b7a3-9539adc3cd48",
   "metadata": {},
   "source": [
    "# Making a dataframe from a dictionary"
   ]
  },
  {
   "cell_type": "code",
   "execution_count": 2,
   "id": "bad63251-af65-47ea-b980-fd6874499a6d",
   "metadata": {},
   "outputs": [],
   "source": [
    "data = {\n",
    "    'name': ['robert', 'richard', 'maximus', 'olivia', 'mia', 'sydney', 'reina', 'takeshi', 'sakura'],\n",
    "    'age': [33, 35, 34, 28, 22, 40, 21, 29, 25],\n",
    "    'career': ['linguist', 'teacher', 'doctor', 'engineer', 'clerk', \n",
    "               'manager', 'driver', 'nurse', 'YouTuber'],\n",
    "    'fav_hobby': ['reading', 'watching tv', 'fishing', 'rock climbing', \n",
    "                  'bowling', 'playing video games', 'working out', 'painting', 'chess'],\n",
    "}"
   ]
  },
  {
   "cell_type": "code",
   "execution_count": 3,
   "id": "5ea0a30c-000f-4db0-b84d-d76f2b255ea8",
   "metadata": {},
   "outputs": [],
   "source": [
    "df = pd.DataFrame(data=data)"
   ]
  },
  {
   "cell_type": "code",
   "execution_count": 4,
   "id": "7fac4e8d-8f90-4416-b016-ff5056201a97",
   "metadata": {},
   "outputs": [
    {
     "name": "stdout",
     "output_type": "stream",
     "text": [
      "      name  age    career            fav_hobby\n",
      "0   robert   33  linguist              reading\n",
      "1  richard   35   teacher          watching tv\n",
      "2  maximus   34    doctor              fishing\n",
      "3   olivia   28  engineer        rock climbing\n",
      "4      mia   22     clerk              bowling\n",
      "5   sydney   40   manager  playing video games\n",
      "6    reina   21    driver          working out\n",
      "7  takeshi   29     nurse             painting\n",
      "8   sakura   25  YouTuber                chess\n"
     ]
    }
   ],
   "source": [
    "print(df)"
   ]
  },
  {
   "cell_type": "code",
   "execution_count": null,
   "id": "00b95081-5466-40eb-a71d-e5ef29e2f45b",
   "metadata": {},
   "outputs": [],
   "source": []
  },
  {
   "cell_type": "markdown",
   "id": "fa6192a3-5437-4213-a47d-4a688064aa0d",
   "metadata": {},
   "source": [
    "# Making a dataframe by reading in from a csv"
   ]
  },
  {
   "cell_type": "code",
   "execution_count": 5,
   "id": "4db0e37d-5322-4f7a-932f-e5abb834cafb",
   "metadata": {},
   "outputs": [],
   "source": [
    "salary_df = pd.read_csv('salary.csv', delimiter='\\t')"
   ]
  },
  {
   "cell_type": "code",
   "execution_count": 6,
   "id": "cc0df478-505b-4c4d-b3b1-4ff355d3deba",
   "metadata": {},
   "outputs": [
    {
     "name": "stdout",
     "output_type": "stream",
     "text": [
      "      name                        career  yearly_salary gender  age age_group\n",
      "0     Brad                        doctor         150000      m   35     30–39\n",
      "1     Sana                 idol / singer        1450000      f   28     20–29\n",
      "2     Luke                  data analyst          80000      m   39     30–39\n",
      "3     Tony                       teacher          45000      m   42     40–49\n",
      "4     Mike                 account clerk          44630      m   25     20–29\n",
      "5     Leia             chemical engineer         112000      f   45     40–49\n",
      "6     Nick                           CEO         250000      m   57     50–59\n",
      "7   Cheryl   software engineering intern          68000      f   23     20–29\n",
      "8    Wayne                        author          75000      m   75     70–79\n",
      "9    Julie                        author          80000      f   40     40–49\n",
      "10    John         pizza delivery driver          30000      m   37     30–39\n",
      "11    Jean                      waitress          30000      f   27     20–29\n",
      "12   Sonja                     professor         150000      f   45     40–49\n",
      "13   Sarah                   Uber driver          40000      f   38     30–39\n",
      "14    Mary                        lawyer         300000      f   33     30–39\n",
      "15  Olivia                    day trader          80000      f   65     60–69\n",
      "16   Pilar  entrepreneur / self-employed          55000      m   47     40–49\n"
     ]
    }
   ],
   "source": [
    "print(salary_df)"
   ]
  },
  {
   "cell_type": "code",
   "execution_count": null,
   "id": "dbf27495-245f-466c-a808-bf4235ed2918",
   "metadata": {},
   "outputs": [],
   "source": []
  },
  {
   "cell_type": "markdown",
   "id": "3d442f37-50ce-4456-a391-b8559b505bbc",
   "metadata": {},
   "source": [
    "# Getting series from dataframe"
   ]
  },
  {
   "cell_type": "code",
   "execution_count": 7,
   "id": "7e4a1b7e-6d2e-4d29-9735-9edff87f015d",
   "metadata": {},
   "outputs": [],
   "source": [
    "name_series = salary_df.name"
   ]
  },
  {
   "cell_type": "code",
   "execution_count": 8,
   "id": "9db8b2e7-cffc-47d6-8b91-972a3f89b12d",
   "metadata": {},
   "outputs": [
    {
     "name": "stdout",
     "output_type": "stream",
     "text": [
      "0       Brad\n",
      "1       Sana\n",
      "2       Luke\n",
      "3       Tony\n",
      "4       Mike\n",
      "5       Leia\n",
      "6       Nick\n",
      "7     Cheryl\n",
      "8      Wayne\n",
      "9      Julie\n",
      "10      John\n",
      "11      Jean\n",
      "12     Sonja\n",
      "13     Sarah\n",
      "14      Mary\n",
      "15    Olivia\n",
      "16     Pilar\n",
      "Name: name, dtype: object\n"
     ]
    }
   ],
   "source": [
    "print(name_series)"
   ]
  },
  {
   "cell_type": "code",
   "execution_count": 9,
   "id": "5d1ae424-1943-4a5c-9766-45e549783bbd",
   "metadata": {},
   "outputs": [],
   "source": [
    "# print(type(name_series))"
   ]
  },
  {
   "cell_type": "code",
   "execution_count": null,
   "id": "e62d8be0-1279-4d0b-ad95-12bc3e3c568b",
   "metadata": {},
   "outputs": [],
   "source": []
  },
  {
   "cell_type": "code",
   "execution_count": 10,
   "id": "3eb959cc-e137-4c48-a597-12600a7c5972",
   "metadata": {},
   "outputs": [],
   "source": [
    "age_series = salary_df['age']"
   ]
  },
  {
   "cell_type": "code",
   "execution_count": 11,
   "id": "589e3e6f-d9d6-4684-a579-a5b943acd3af",
   "metadata": {},
   "outputs": [
    {
     "name": "stdout",
     "output_type": "stream",
     "text": [
      "0     35\n",
      "1     28\n",
      "2     39\n",
      "3     42\n",
      "4     25\n",
      "5     45\n",
      "6     57\n",
      "7     23\n",
      "8     75\n",
      "9     40\n",
      "10    37\n",
      "11    27\n",
      "12    45\n",
      "13    38\n",
      "14    33\n",
      "15    65\n",
      "16    47\n",
      "Name: age, dtype: int64\n"
     ]
    }
   ],
   "source": [
    "print(age_series)"
   ]
  },
  {
   "cell_type": "code",
   "execution_count": 12,
   "id": "4c94f23b-0c06-45c9-904c-680b1852b81e",
   "metadata": {},
   "outputs": [],
   "source": [
    "# print(type(age_series))"
   ]
  },
  {
   "cell_type": "code",
   "execution_count": null,
   "id": "31e8d53d-d230-499f-8e91-719c08ad8b9d",
   "metadata": {},
   "outputs": [],
   "source": []
  },
  {
   "cell_type": "code",
   "execution_count": 13,
   "id": "08d17ba4-3a77-4e03-b690-1444ad620c71",
   "metadata": {},
   "outputs": [],
   "source": [
    "career_series = salary_df.career"
   ]
  },
  {
   "cell_type": "code",
   "execution_count": 14,
   "id": "4fba75eb-c627-445e-a4ea-af98d28894d6",
   "metadata": {},
   "outputs": [
    {
     "name": "stdout",
     "output_type": "stream",
     "text": [
      "0                           doctor\n",
      "1                    idol / singer\n",
      "2                     data analyst\n",
      "3                          teacher\n",
      "4                    account clerk\n",
      "5                chemical engineer\n",
      "6                              CEO\n",
      "7      software engineering intern\n",
      "8                           author\n",
      "9                           author\n",
      "10           pizza delivery driver\n",
      "11                        waitress\n",
      "12                       professor\n",
      "13                     Uber driver\n",
      "14                          lawyer\n",
      "15                      day trader\n",
      "16    entrepreneur / self-employed\n",
      "Name: career, dtype: object\n"
     ]
    }
   ],
   "source": [
    "print(career_series)"
   ]
  },
  {
   "cell_type": "code",
   "execution_count": 15,
   "id": "dba5b28e-1d71-4a65-8dfd-37d6a2cf607a",
   "metadata": {},
   "outputs": [],
   "source": [
    "# print(type(career_series))"
   ]
  },
  {
   "cell_type": "code",
   "execution_count": null,
   "id": "e2fa301a-d527-4494-b41f-c1c26485c4af",
   "metadata": {},
   "outputs": [],
   "source": []
  },
  {
   "cell_type": "code",
   "execution_count": null,
   "id": "7773eb95-7fd4-43ce-831e-5e2868f2470f",
   "metadata": {},
   "outputs": [],
   "source": []
  },
  {
   "cell_type": "code",
   "execution_count": null,
   "id": "8b2d7d4c-e48c-493f-ad77-2989ae30c4de",
   "metadata": {},
   "outputs": [],
   "source": []
  },
  {
   "cell_type": "code",
   "execution_count": 16,
   "id": "7a963dde-476f-4c35-90f4-675a39dbce86",
   "metadata": {},
   "outputs": [],
   "source": [
    "yearly_salary_series = salary_df['yearly_salary']"
   ]
  },
  {
   "cell_type": "code",
   "execution_count": 17,
   "id": "0b65ec02-3f18-4162-bfc1-2a2a94e883c4",
   "metadata": {},
   "outputs": [
    {
     "name": "stdout",
     "output_type": "stream",
     "text": [
      "0      150000\n",
      "1     1450000\n",
      "2       80000\n",
      "3       45000\n",
      "4       44630\n",
      "5      112000\n",
      "6      250000\n",
      "7       68000\n",
      "8       75000\n",
      "9       80000\n",
      "10      30000\n",
      "11      30000\n",
      "12     150000\n",
      "13      40000\n",
      "14     300000\n",
      "15      80000\n",
      "16      55000\n",
      "Name: yearly_salary, dtype: int64\n"
     ]
    }
   ],
   "source": [
    "print(yearly_salary_series)"
   ]
  },
  {
   "cell_type": "code",
   "execution_count": null,
   "id": "463c59e3-435b-485c-adc8-d989f29431d7",
   "metadata": {},
   "outputs": [],
   "source": []
  },
  {
   "cell_type": "code",
   "execution_count": 18,
   "id": "e0ebd7d3-bd12-4755-941f-cc782802aaef",
   "metadata": {},
   "outputs": [],
   "source": [
    "# print(type(yearly_salary_series))"
   ]
  },
  {
   "cell_type": "code",
   "execution_count": null,
   "id": "d36490b3-0324-4219-add0-cc1c3a0a0399",
   "metadata": {},
   "outputs": [],
   "source": []
  },
  {
   "cell_type": "code",
   "execution_count": 19,
   "id": "895f2339-4a09-4840-b96d-eae7c62be64d",
   "metadata": {},
   "outputs": [],
   "source": [
    "gender_series = salary_df['gender']"
   ]
  },
  {
   "cell_type": "code",
   "execution_count": 20,
   "id": "4be31de2-a61a-42fa-9bf8-c31d3269661b",
   "metadata": {},
   "outputs": [
    {
     "name": "stdout",
     "output_type": "stream",
     "text": [
      "0     m\n",
      "1     f\n",
      "2     m\n",
      "3     m\n",
      "4     m\n",
      "5     f\n",
      "6     m\n",
      "7     f\n",
      "8     m\n",
      "9     f\n",
      "10    m\n",
      "11    f\n",
      "12    f\n",
      "13    f\n",
      "14    f\n",
      "15    f\n",
      "16    m\n",
      "Name: gender, dtype: object\n"
     ]
    }
   ],
   "source": [
    "print(gender_series)"
   ]
  },
  {
   "cell_type": "code",
   "execution_count": null,
   "id": "af0bb3bc-0aa3-4aa2-b29b-35e5e0326dc1",
   "metadata": {},
   "outputs": [],
   "source": []
  },
  {
   "cell_type": "code",
   "execution_count": 21,
   "id": "e3fdf55b-1004-4b6a-a06d-ecc69dfeca38",
   "metadata": {},
   "outputs": [],
   "source": [
    "# print(type(gender_series))"
   ]
  },
  {
   "cell_type": "code",
   "execution_count": null,
   "id": "929d150e-060b-460d-9e7c-abe6b0043958",
   "metadata": {},
   "outputs": [],
   "source": []
  },
  {
   "cell_type": "code",
   "execution_count": 22,
   "id": "d1f0ad37-d90f-4a67-bdde-83898d01a4bf",
   "metadata": {},
   "outputs": [],
   "source": [
    "age_series = salary_df['age']"
   ]
  },
  {
   "cell_type": "code",
   "execution_count": 23,
   "id": "56cb4c80-3739-40ea-8ead-28f2da2f0cd2",
   "metadata": {},
   "outputs": [
    {
     "name": "stdout",
     "output_type": "stream",
     "text": [
      "0     35\n",
      "1     28\n",
      "2     39\n",
      "3     42\n",
      "4     25\n",
      "5     45\n",
      "6     57\n",
      "7     23\n",
      "8     75\n",
      "9     40\n",
      "10    37\n",
      "11    27\n",
      "12    45\n",
      "13    38\n",
      "14    33\n",
      "15    65\n",
      "16    47\n",
      "Name: age, dtype: int64\n"
     ]
    }
   ],
   "source": [
    "print(age_series)"
   ]
  },
  {
   "cell_type": "code",
   "execution_count": 24,
   "id": "219e9cb7-cd3c-4636-add5-11281809c17f",
   "metadata": {},
   "outputs": [],
   "source": [
    "# print(type(age_series))"
   ]
  },
  {
   "cell_type": "code",
   "execution_count": null,
   "id": "941f042b-1d3c-49fa-b403-40229ca305a2",
   "metadata": {},
   "outputs": [],
   "source": []
  },
  {
   "cell_type": "code",
   "execution_count": 25,
   "id": "676f7161-f258-4c8d-807e-1fcbd28caf62",
   "metadata": {},
   "outputs": [],
   "source": [
    "age_group_series = salary_df['age_group']"
   ]
  },
  {
   "cell_type": "code",
   "execution_count": 26,
   "id": "b2d364a2-55e0-4c88-a4eb-9cbb3af3ad06",
   "metadata": {},
   "outputs": [
    {
     "name": "stdout",
     "output_type": "stream",
     "text": [
      "0     30–39\n",
      "1     20–29\n",
      "2     30–39\n",
      "3     40–49\n",
      "4     20–29\n",
      "5     40–49\n",
      "6     50–59\n",
      "7     20–29\n",
      "8     70–79\n",
      "9     40–49\n",
      "10    30–39\n",
      "11    20–29\n",
      "12    40–49\n",
      "13    30–39\n",
      "14    30–39\n",
      "15    60–69\n",
      "16    40–49\n",
      "Name: age_group, dtype: object\n"
     ]
    }
   ],
   "source": [
    "print(age_group_series)"
   ]
  },
  {
   "cell_type": "code",
   "execution_count": 27,
   "id": "9e847a99-78f4-482f-a741-f06b45bab95e",
   "metadata": {},
   "outputs": [],
   "source": [
    "# print(type(age_group_series))"
   ]
  },
  {
   "cell_type": "code",
   "execution_count": null,
   "id": "f836dff9-d779-4f7d-91f0-723e47ed8f9f",
   "metadata": {},
   "outputs": [],
   "source": []
  },
  {
   "cell_type": "code",
   "execution_count": null,
   "id": "b6e7e241-581b-4871-9ffb-3d5372857c68",
   "metadata": {},
   "outputs": [],
   "source": []
  }
 ],
 "metadata": {
  "kernelspec": {
   "display_name": "Python 3 (ipykernel)",
   "language": "python",
   "name": "python3"
  },
  "language_info": {
   "codemirror_mode": {
    "name": "ipython",
    "version": 3
   },
   "file_extension": ".py",
   "mimetype": "text/x-python",
   "name": "python",
   "nbconvert_exporter": "python",
   "pygments_lexer": "ipython3",
   "version": "3.10.12"
  }
 },
 "nbformat": 4,
 "nbformat_minor": 5
}
